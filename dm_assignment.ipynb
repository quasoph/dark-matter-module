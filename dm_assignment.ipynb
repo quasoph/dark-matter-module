{
 "cells": [
  {
   "cell_type": "markdown",
   "metadata": {},
   "source": [
    "# Dark Matter: Theories Beyond the Standard Model Assignment"
   ]
  },
  {
   "cell_type": "markdown",
   "metadata": {},
   "source": [
    "## Question 1: Theory and Simulation of the Matter Power Spectrum\n",
    "\n",
    "In the lecture, you learned the motivation for the matter power spectrum, an equation describing the matter density contrast of the universe. This equation tells us a lot about the properties of dark matter, such as its temperature, how it interacts with normal matter, and how long it has existed for. In this question, we will explore the individual components of the matter power spectrum by simulating it with a publicly available code called CHOMP."
   ]
  },
  {
   "cell_type": "markdown",
   "metadata": {},
   "source": [
    "### Cloning CHOMP from GitHub"
   ]
  },
  {
   "cell_type": "markdown",
   "metadata": {},
   "source": [
    "Step 1: Install Ubuntu, WSL and Git on your device from the Windows store. Open the Ubuntu terminal in your coding app of choice (Spyder or VSCode), and make a folder by typing the below code."
   ]
  },
  {
   "cell_type": "code",
   "execution_count": null,
   "metadata": {
    "vscode": {
     "languageId": "shellscript"
    }
   },
   "outputs": [],
   "source": [
    "mkdir Folder"
   ]
  },
  {
   "cell_type": "markdown",
   "metadata": {},
   "source": [
    "Step 2: Create a conda environment. This is a virtual environment that you can install packages in, meaning you can simply run your code in the environment rather than have to reinstall packages every time you open the code. Type in the following to create your conda env:"
   ]
  },
  {
   "cell_type": "code",
   "execution_count": null,
   "metadata": {
    "vscode": {
     "languageId": "shellscript"
    }
   },
   "outputs": [],
   "source": [
    "conda create -n darkmatter-env python == 2.7 anaconda"
   ]
  },
  {
   "cell_type": "markdown",
   "metadata": {},
   "source": [
    "Note that it is VERY IMPORTANT that you specify a version of Python when you create your environment, or you may not be able to install packages. In this case, we are using Python 2.7, as that is the version required for CHOMP to run. Now that you've created your conda environment, you can activate and deactivate it any time via the terminal by typing:"
   ]
  },
  {
   "cell_type": "code",
   "execution_count": null,
   "metadata": {
    "vscode": {
     "languageId": "shellscript"
    }
   },
   "outputs": [],
   "source": [
    "conda activate darkmatter-env"
   ]
  },
  {
   "cell_type": "code",
   "execution_count": null,
   "metadata": {
    "vscode": {
     "languageId": "shellscript"
    }
   },
   "outputs": [],
   "source": [
    "conda deactivate darkmatter-env"
   ]
  },
  {
   "cell_type": "markdown",
   "metadata": {},
   "source": [
    "Step 3: Open the folder you created in Step 1 using the \"cd\" command, then clone the dark-matter-module repository into it. This makes a copy of the repository on your device."
   ]
  },
  {
   "cell_type": "code",
   "execution_count": null,
   "metadata": {
    "vscode": {
     "languageId": "shellscript"
    }
   },
   "outputs": [],
   "source": [
    "conda activate darkmatter-env\n",
    "cd Folder\n",
    "git clone https://github.com/quasoph/dark-matter-module.git"
   ]
  },
  {
   "cell_type": "markdown",
   "metadata": {},
   "source": [
    "Step 4: Open the dark-matter-module folder that now lives in your device, and install the CHOMP dependencies, a.k.a. the packages required for CHOMP to run."
   ]
  },
  {
   "cell_type": "code",
   "execution_count": null,
   "metadata": {
    "vscode": {
     "languageId": "shellscript"
    }
   },
   "outputs": [],
   "source": [
    "cd dark-matter-module\n",
    "pip install -r requirements.txt"
   ]
  },
  {
   "cell_type": "markdown",
   "metadata": {},
   "source": [
    "That's all! By now you have successfully made a folder to keep your work in, created a conda environment to install packages in, and cloned the code you need into your folder. Don't worry if you get some errors on the way or it takes longer than you thought to set up, this is a normal part of the process. We can now start the assignment question!"
   ]
  },
  {
   "cell_type": "markdown",
   "metadata": {},
   "source": [
    "### 1. a) Density Fluctuations [10 marks]"
   ]
  },
  {
   "cell_type": "markdown",
   "metadata": {},
   "source": [
    "Have a look through the cosmology.py file. At line 443 there is a function called rho_bar which is missing a docstring."
   ]
  },
  {
   "cell_type": "code",
   "execution_count": null,
   "metadata": {},
   "outputs": [],
   "source": [
    "def rho_bar(self):\n",
    "    \n",
    "    return self.rho_crit()*self.omega_m()"
   ]
  },
  {
   "cell_type": "markdown",
   "metadata": {},
   "source": [
    "i) What does the argument \"self\" mean? [2]"
   ]
  },
  {
   "cell_type": "markdown",
   "metadata": {},
   "source": [
    "ii) What does the function rho_bar output? What is its physical significance? [2] *Hint: you may find it useful to review the lecture slides on density fluctuations.*"
   ]
  },
  {
   "cell_type": "markdown",
   "metadata": {},
   "source": [
    "iii) Add a docstring to the function rho_bar, including the units of the value returned. [2]"
   ]
  },
  {
   "cell_type": "markdown",
   "metadata": {},
   "source": [
    "iv) Write a function that returns the matter density fluctuation $\\delta(x)$, accepting rho_bar as an argument. Paste this function in the space underneath rho_bar in the cosmology.py file. [4]"
   ]
  },
  {
   "cell_type": "markdown",
   "metadata": {},
   "source": [
    "### 1. b) Making Waves [12 marks]"
   ]
  },
  {
   "cell_type": "markdown",
   "metadata": {},
   "source": [
    "Now that we have a representation of density fluctuations at a point in space, we're going to develop a simulation of the matter power spectrum."
   ]
  },
  {
   "cell_type": "markdown",
   "metadata": {},
   "source": [
    "i) How does a Fourier transform give the amplitudes of waves? [2]"
   ]
  },
  {
   "cell_type": "markdown",
   "metadata": {},
   "source": [
    "ii) Evaluate the integral $\\frac{1}{V} \\int_V \\delta(x) e^{ikx} d^3x$ where $\\delta(x)$ is the matter density fluctuation in terms of density $\\rho$. [3]"
   ]
  },
  {
   "cell_type": "markdown",
   "metadata": {},
   "source": [
    "iii) The above integral gives the amplitudes $\\delta(k)$ of a set of density perturbation waves in an area of space with length L. Code a function called linear_power returning the variance of these waves, beginning with a numerical calculation of $\\delta(k)$. [6]"
   ]
  },
  {
   "cell_type": "markdown",
   "metadata": {},
   "source": [
    "iv) Why is the matter power spectrum called a power spectrum? [1]"
   ]
  },
  {
   "cell_type": "markdown",
   "metadata": {},
   "source": [
    "### 1. c) Simulating Dark Matter [5 marks]"
   ]
  }
 ],
 "metadata": {
  "language_info": {
   "name": "python"
  },
  "orig_nbformat": 4
 },
 "nbformat": 4,
 "nbformat_minor": 2
}
